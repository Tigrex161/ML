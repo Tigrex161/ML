{
 "cells": [
  {
   "cell_type": "code",
   "execution_count": 1,
   "metadata": {},
   "outputs": [],
   "source": [
    "import numpy as np\n",
    "from sklearn.datasets import make_moons\n",
    "from sklearn.datasets import make_circles\n",
    "from matplotlib import pyplot as plt\n",
    "from matplotlib.colors import ListedColormap\n",
    "from sklearn.model_selection import train_test_split\n",
    "import h5py"
   ]
  },
  {
   "cell_type": "code",
   "execution_count": 71,
   "metadata": {},
   "outputs": [],
   "source": [
    "class dnn:\n",
    "    def __init__(self, layers, activations, learning_rate, batch_size = 0):\n",
    "        \n",
    "        self.__layers = layers\n",
    "        self.__activations = activations\n",
    "        self.__lr = learning_rate\n",
    "        self.__batch_size = batch_size\n",
    "        self.__depth = len(layers)\n",
    "        self.__params = {}\n",
    "        self.__grads = {}\n",
    "        \n",
    "        if (batch_size == 0):\n",
    "            self.__use_mini_batch = False\n",
    "        else:\n",
    "            self.__use_mini_batch = True\n",
    "            \n",
    "    def __init_params(self):\n",
    "        np.random.seed(1)\n",
    "        for l in range(1, self.__depth):\n",
    "            self.__params[\"W\" + str(l)] = np.random.randn(self.__layers[l], self.__layers[l-1]) / np.sqrt((self.__layers[l-1]))\n",
    "            self.__params[\"b\" + str(l)] = np.zeros((self.__layers[l], 1))    \n",
    "    \n",
    "    def __relu(self, Z):\n",
    "        Z = self.__apply_dropout(Z, 0.8)\n",
    "        A = np.maximum(0,Z)\n",
    "        cache = Z\n",
    "        return A, cache\n",
    "            \n",
    "    def __sigmoid(self, Z):    \n",
    "        A = 1/(1+np.exp(-Z))\n",
    "        cache = Z\n",
    "        return A, cache\n",
    "    \n",
    "    def __apply_dropout(self, A, keep_prob):\n",
    "        D = np.random.randn(A.shape[0], A.shape[1])\n",
    "        D = (D < keep_prob).astype(int)\n",
    "        A = np.multiply(A, D) + 0\n",
    "        A = A / keep_prob\n",
    "        return A\n",
    "        \n",
    "    \n",
    "    def __fwd_activation(self, Z, activation):\n",
    "        if(activation == 'relu'):\n",
    "            A, cache = self.__relu(Z)\n",
    "        elif(activation == 'sigmoid'):\n",
    "            A, cache = self.__sigmoid(Z)\n",
    "        return A, cache\n",
    "        \n",
    "        \n",
    "    def __forward_prop(self, A_prev, W, b, activation):  \n",
    "        linear_cache = {}\n",
    "        activation_cache = {}\n",
    "        Z = np.dot(W, A_prev) + b \n",
    "        A, activation_cache = self.__fwd_activation(Z, activation)\n",
    "        \n",
    "        linear_cache = (A_prev, W, b)\n",
    "        cache = (linear_cache, activation_cache)\n",
    "        \n",
    "        return A, cache \n",
    "    \n",
    "    def __forward_step(self, X_train):\n",
    "        A_prev = X_train\n",
    "        caches = []\n",
    "        \n",
    "        for l in range(1, self.__depth):\n",
    "            A, cache = self.__forward_prop(A_prev, self.__params['W' + str(l)], self.__params['b' + str(l)], self.__activations[l])\n",
    "            A_prev = A\n",
    "            caches.append(cache)\n",
    "    \n",
    "        return A_prev, caches\n",
    "    \n",
    "    \n",
    "    def __back_prop(self, y, caches, AL):\n",
    "        dAL = -(np.divide(y, AL)  - np.divide((1-y), (1-AL)))\n",
    "        L = len(caches)\n",
    "        \n",
    "        current_cache = caches[L - 1]        \n",
    "        self.__grads['dA' + str(L-1)], self.__grads['dW' + str(L)], self.__grads['db' + str(L)]  = self.__linear_activation_back(dAL, current_cache, self.__activations[L])    \n",
    "        \n",
    "        for l in reversed(range(L-1)):\n",
    "            current_cache = caches[l]\n",
    "            self.__grads['dA' + str(l)], self.__grads['dW' + str(l+1)], self.__grads['db' + str(l+1)]  = self.__linear_activation_back(self.__grads['dA' + str(l+1)], current_cache, self.__activations[l+1])\n",
    "    \n",
    "    \n",
    "    def __d_sigmoid(self,dA, cache):\n",
    "        Z = cache\n",
    "        s = 1/(1+np.exp(-Z))\n",
    "        dZ = dA * s * (1-s)\n",
    "        return dZ\n",
    "    \n",
    "    def __d_relu(self, dA, cache):\n",
    "        Z = cache\n",
    "        dZ = np.array(dA, copy = True)\n",
    "        \n",
    "        dZ[Z <= 0] = 0\n",
    "        assert (dZ.shape == Z.shape)\n",
    "    \n",
    "        return dZ\n",
    "\n",
    "\n",
    "    def __linear_activation_back(self, dA, cache, activation):\n",
    "        if activation == 'relu':\n",
    "            dZ = self.__d_relu(dA, cache[1])\n",
    "        elif activation == 'sigmoid':\n",
    "            dZ = self.__d_sigmoid(dA, cache[1])    \n",
    "    \n",
    "        dA_prev, dW, db = self.__linear_back(dZ, cache[0])\n",
    "    \n",
    "        return dA_prev, dW, db\n",
    "\n",
    "    def __linear_back(self, dZ, cache):\n",
    "        A_prev, W, b = cache\n",
    "        m = A_prev.shape[1]\n",
    "    \n",
    "        dA_prev = np.dot(W.T, dZ) \n",
    "        dW = 1/m * np.dot(dZ, A_prev.T)\n",
    "        db = 1/m * np.sum(dZ, axis = 1, keepdims = True)\n",
    "    \n",
    "        return dA_prev, dW, db\n",
    "        \n",
    "    \n",
    "    def describe(self):\n",
    "        for i in range(self.__depth):\n",
    "            if(i == 0):\n",
    "                type = 'Input'\n",
    "            elif(i == self.__depth - 1):\n",
    "                type = 'Output'\n",
    "            else:\n",
    "                type = 'Hidden'\n",
    "            \n",
    "            print('Layer ' + str(i+1) + ' ==> Activation: ' + str(self.__activations[i]) + ', Nodes: ' + str(self.__layers[i]) + ', Type: ' + str(type))        \n",
    "\n",
    "    def __calc_cost(self, A, y):\n",
    "        m = y.shape[1]\n",
    "        cost = -(1/m) * np.sum(np.dot(y, np.log(A).T) + np.dot((1-y), np.log(1-A).T))\n",
    "\n",
    "        return cost         \n",
    "            \n",
    "    def __update_params(self):\n",
    "        for l in range(1, self.__depth):\n",
    "            self.__params['W' + str(l)] = self.__params['W' + str(l)] - self.__lr * self.__grads['dW' + str(l)]\n",
    "            self.__params['b' + str(l)] = self.__params['b' + str(l)] - self.__lr * self.__grads['db' + str(l)]\n",
    "            \n",
    "            \n",
    "    def train_network(self, X_train, y_train, num_iterations):    \n",
    "        print(\"Initializing Training\")\n",
    "        self.__init_params()\n",
    "        for i in range(num_iterations):\n",
    "            AL, caches = self.__forward_step(X_train)\n",
    "            \n",
    "            cost = self.__calc_cost(AL, y_train)\n",
    "\n",
    "            self.__back_prop(y_train, caches, AL)\n",
    "        \n",
    "            self.__update_params()\n",
    "            \n",
    "            if(i % 500 == 0):\n",
    "                print(cost)\n",
    "        \n",
    "        \n",
    "        return None\n",
    "    \n",
    "    def predict(self, x_test):\n",
    "        A, cache = self.__forward_step(x_test)\n",
    "    \n",
    "        predictions = (A >= 0.5).astype(int)\n",
    "    \n",
    "        return predictions\n",
    "            \n",
    "    def print_accuracy(self, predictions, y_test):\n",
    "        x = (np.abs(predictions - y_test)).sum()\n",
    "        acc = 100 - ((x/y_test.shape[1]) * 100)\n",
    "        \n",
    "        return str(acc) + \"%\"\n",
    "            \n",
    "        "
   ]
  },
  {
   "cell_type": "code",
   "execution_count": 72,
   "metadata": {},
   "outputs": [],
   "source": [
    "def plot_decision_boundary(model, X, y):\n",
    "    # Set min and max values and give it some padding\n",
    "    x_min, x_max = X[0, :].min() - 1, X[0, :].max() + 1\n",
    "    y_min, y_max = X[1, :].min() - 1, X[1, :].max() + 1\n",
    "    h = 0.01\n",
    "    # Generate a grid of points with distance h between them\n",
    "    xx, yy = np.meshgrid(np.arange(x_min, x_max, h), np.arange(y_min, y_max, h))\n",
    "    # Predict the function value for the whole grid\n",
    "    Z = model(np.c_[xx.ravel(), yy.ravel()])\n",
    "    Z = Z.reshape(xx.shape)\n",
    "    y = y.reshape(y.shape[1])\n",
    "    # Plot the contour and training examples\n",
    "    plt.contourf(xx, yy, Z, cmap=plt.cm.Spectral)\n",
    "    plt.ylabel('x2')\n",
    "    plt.xlabel('x1')\n",
    "    plt.scatter(X[0, :], X[1, :], c=y, cmap=plt.cm.Spectral)"
   ]
  },
  {
   "cell_type": "code",
   "execution_count": 73,
   "metadata": {},
   "outputs": [],
   "source": [
    "dataset = make_moons(n_samples = 5000, noise=0.1, random_state=0)\n",
    "# dataset = make_circles(n_samples = 2000, shuffle=True, noise=0.01, random_state=0, factor=0.8)\n",
    "\n",
    "X = dataset[0]\n",
    "Y = dataset[1]\n",
    "\n",
    "X_train, X_test, y_train, y_test = train_test_split(X, Y, test_size=.3)\n",
    "\n",
    "y_test = y_test.reshape(1, y_test.shape[0])\n",
    "y_train = y_train.reshape(1, y_train.shape[0])\n",
    "\n",
    "X_train = X_train.T\n",
    "X_test = X_test.T"
   ]
  },
  {
   "cell_type": "code",
   "execution_count": 74,
   "metadata": {},
   "outputs": [
    {
     "data": {
      "text/plain": [
       "(2, 3500)"
      ]
     },
     "execution_count": 74,
     "metadata": {},
     "output_type": "execute_result"
    }
   ],
   "source": [
    "X_train.shape"
   ]
  },
  {
   "cell_type": "code",
   "execution_count": 75,
   "metadata": {},
   "outputs": [
    {
     "data": {
      "text/plain": [
       "(1, 3500)"
      ]
     },
     "execution_count": 75,
     "metadata": {},
     "output_type": "execute_result"
    }
   ],
   "source": [
    "y_train.shape"
   ]
  },
  {
   "cell_type": "code",
   "execution_count": 76,
   "metadata": {},
   "outputs": [],
   "source": [
    "layers = [X_train.shape[0], 15, 12, 12, 1]\n",
    "activations = ['none', 'relu', 'relu', 'relu', 'sigmoid']"
   ]
  },
  {
   "cell_type": "code",
   "execution_count": 77,
   "metadata": {},
   "outputs": [
    {
     "data": {
      "text/plain": [
       "[2, 15, 12, 12, 1]"
      ]
     },
     "execution_count": 77,
     "metadata": {},
     "output_type": "execute_result"
    }
   ],
   "source": [
    "layers"
   ]
  },
  {
   "cell_type": "code",
   "execution_count": 78,
   "metadata": {},
   "outputs": [
    {
     "data": {
      "text/plain": [
       "['none', 'relu', 'relu', 'relu', 'sigmoid']"
      ]
     },
     "execution_count": 78,
     "metadata": {},
     "output_type": "execute_result"
    }
   ],
   "source": [
    "activations"
   ]
  },
  {
   "cell_type": "code",
   "execution_count": 79,
   "metadata": {},
   "outputs": [],
   "source": [
    "nn1 = dnn(layers, activations, 0.7, 64)"
   ]
  },
  {
   "cell_type": "code",
   "execution_count": 80,
   "metadata": {},
   "outputs": [
    {
     "name": "stdout",
     "output_type": "stream",
     "text": [
      "Layer 1 ==> Activation: none, Nodes: 2, Type: Input\n",
      "Layer 2 ==> Activation: relu, Nodes: 15, Type: Hidden\n",
      "Layer 3 ==> Activation: relu, Nodes: 12, Type: Hidden\n",
      "Layer 4 ==> Activation: relu, Nodes: 12, Type: Hidden\n",
      "Layer 5 ==> Activation: sigmoid, Nodes: 1, Type: Output\n"
     ]
    }
   ],
   "source": [
    "nn1.describe()"
   ]
  },
  {
   "cell_type": "code",
   "execution_count": 85,
   "metadata": {},
   "outputs": [
    {
     "name": "stdout",
     "output_type": "stream",
     "text": [
      "Initializing Training\n",
      "0.9173562569673129\n"
     ]
    },
    {
     "name": "stderr",
     "output_type": "stream",
     "text": [
      "/home/taimur/anaconda3/lib/python3.7/site-packages/ipykernel_launcher.py:135: RuntimeWarning: divide by zero encountered in log\n",
      "/home/taimur/anaconda3/lib/python3.7/site-packages/ipykernel_launcher.py:74: RuntimeWarning: invalid value encountered in true_divide\n",
      "/home/taimur/anaconda3/lib/python3.7/site-packages/ipykernel_launcher.py:95: RuntimeWarning: invalid value encountered in less_equal\n"
     ]
    },
    {
     "name": "stdout",
     "output_type": "stream",
     "text": [
      "nan\n"
     ]
    }
   ],
   "source": [
    "nn1.train_network(X_train, y_train, 1000)"
   ]
  },
  {
   "cell_type": "code",
   "execution_count": 134,
   "metadata": {},
   "outputs": [],
   "source": [
    "predictions = nn1.predict(X_test)"
   ]
  },
  {
   "cell_type": "code",
   "execution_count": 135,
   "metadata": {},
   "outputs": [
    {
     "data": {
      "text/plain": [
       "'99.8%'"
      ]
     },
     "execution_count": 135,
     "metadata": {},
     "output_type": "execute_result"
    }
   ],
   "source": [
    "nn1.accuracy(predictions, y_test)"
   ]
  },
  {
   "cell_type": "code",
   "execution_count": 136,
   "metadata": {},
   "outputs": [
    {
     "data": {
      "image/png": "[encoded data removed]",
      "text/plain": [
       "<Figure size 432x288 with 1 Axes>"
      ]
     },
     "metadata": {
      "needs_background": "light"
     },
     "output_type": "display_data"
    }
   ],
   "source": [
    "plot_decision_boundary(lambda x: nn1.predict(x.T), X_test, y_test)"
   ]
  },
  {
   "cell_type": "code",
   "execution_count": null,
   "metadata": {},
   "outputs": [],
   "source": []
  },
  {
   "cell_type": "code",
   "execution_count": 105,
   "metadata": {},
   "outputs": [],
   "source": [
    "file_name = 'train_catvnoncat.h5'"
   ]
  },
  {
   "cell_type": "code",
   "execution_count": 106,
   "metadata": {},
   "outputs": [
    {
     "name": "stdout",
     "output_type": "stream",
     "text": [
      "Keys: <KeysViewHDF5 ['list_classes', 'train_set_x', 'train_set_y']>\n"
     ]
    }
   ],
   "source": [
    "with h5py.File(file_name, 'r') as f:\n",
    "    # List all groups\n",
    "    print(\"Keys: %s\" % f.keys())\n",
    "    b_group_key = list(f.keys())[1]\n",
    "    c_group_key = list(f.keys())[2]\n",
    "    a_group_key = list(f.keys())[0]\n",
    "\n",
    "    # Get the data\n",
    "    x_train = list(f[b_group_key])\n",
    "    y_train = list(f[c_group_key])\n",
    "    labels = list(f[a_group_key])"
   ]
  },
  {
   "cell_type": "code",
   "execution_count": 107,
   "metadata": {},
   "outputs": [],
   "source": [
    "X_train  = np.array(x_train)\n",
    "Y_train  = np.array(y_train)"
   ]
  },
  {
   "cell_type": "code",
   "execution_count": 108,
   "metadata": {},
   "outputs": [],
   "source": [
    "X_train = X_train.reshape((X_train.shape[0], -1)).T\n",
    "Y_train = Y_train.reshape((Y_train.shape[0],1)).T"
   ]
  },
  {
   "cell_type": "code",
   "execution_count": 109,
   "metadata": {},
   "outputs": [],
   "source": [
    "X_train = X_train / 255\n",
    "Y_train = Y_train"
   ]
  },
  {
   "cell_type": "code",
   "execution_count": 110,
   "metadata": {},
   "outputs": [],
   "source": [
    "file_name = 'test_catvnoncat.h5'\n"
   ]
  },
  {
   "cell_type": "code",
   "execution_count": 111,
   "metadata": {},
   "outputs": [
    {
     "name": "stdout",
     "output_type": "stream",
     "text": [
      "Keys: <KeysViewHDF5 ['list_classes', 'test_set_x', 'test_set_y']>\n"
     ]
    }
   ],
   "source": [
    "with h5py.File(file_name, 'r') as f:\n",
    "    # List all groups\n",
    "    print(\"Keys: %s\" % f.keys())\n",
    "    b_group_key = list(f.keys())[1]\n",
    "    c_group_key = list(f.keys())[2]\n",
    "    a_group_key = list(f.keys())[0]\n",
    "\n",
    "    # Get the data\n",
    "    x_test = list(f[b_group_key])\n",
    "    y_test = list(f[c_group_key])\n",
    "    labels_test = list(f[a_group_key])"
   ]
  },
  {
   "cell_type": "code",
   "execution_count": 112,
   "metadata": {},
   "outputs": [],
   "source": [
    "X_test = np.array(x_test)\n",
    "Y_test = np.array(y_test)"
   ]
  },
  {
   "cell_type": "code",
   "execution_count": 113,
   "metadata": {},
   "outputs": [],
   "source": [
    "X_test = X_test.reshape((X_test.shape[0], -1)).T\n",
    "Y_test = Y_test.reshape((Y_test.shape[0],1)).T"
   ]
  },
  {
   "cell_type": "code",
   "execution_count": 114,
   "metadata": {},
   "outputs": [],
   "source": [
    "X_test = X_test / 255\n",
    "Y_test = Y_test"
   ]
  },
  {
   "cell_type": "code",
   "execution_count": 115,
   "metadata": {},
   "outputs": [],
   "source": [
    "layers = [X_train.shape[0], 20, 7 ,5, 1]\n",
    "activations = ['input', 'relu','relu', 'relu', 'sigmoid']"
   ]
  },
  {
   "cell_type": "code",
   "execution_count": 116,
   "metadata": {},
   "outputs": [],
   "source": [
    "nn1 = dnn(layers, activations, 0.009, 64)"
   ]
  },
  {
   "cell_type": "code",
   "execution_count": 117,
   "metadata": {},
   "outputs": [
    {
     "name": "stdout",
     "output_type": "stream",
     "text": [
      "Layer 1 ==> Activation: input, Nodes: 12288, Type: Input\n",
      "Layer 2 ==> Activation: relu, Nodes: 20, Type: Hidden\n",
      "Layer 3 ==> Activation: relu, Nodes: 7, Type: Hidden\n",
      "Layer 4 ==> Activation: relu, Nodes: 5, Type: Hidden\n",
      "Layer 5 ==> Activation: sigmoid, Nodes: 1, Type: Output\n"
     ]
    }
   ],
   "source": [
    "nn1.describe()"
   ]
  },
  {
   "cell_type": "code",
   "execution_count": 118,
   "metadata": {},
   "outputs": [
    {
     "name": "stdout",
     "output_type": "stream",
     "text": [
      "Initializing Training\n",
      "1.2081250106003227\n",
      "0.6467047774694484\n",
      "0.6441213739638008\n",
      "0.6439815775770755\n",
      "0.6439741524434397\n"
     ]
    }
   ],
   "source": [
    "nn1.train_network(X_train, Y_train, 2500)"
   ]
  },
  {
   "cell_type": "code",
   "execution_count": 119,
   "metadata": {},
   "outputs": [],
   "source": [
    "predictions = nn1.predict(X_test)"
   ]
  },
  {
   "cell_type": "code",
   "execution_count": 120,
   "metadata": {},
   "outputs": [
    {
     "data": {
      "text/plain": [
       "'34.0%'"
      ]
     },
     "execution_count": 120,
     "metadata": {},
     "output_type": "execute_result"
    }
   ],
   "source": [
    "nn1.accuracy(predictions, Y_test)"
   ]
  },
  {
   "cell_type": "code",
   "execution_count": 121,
   "metadata": {},
   "outputs": [
    {
     "data": {
      "text/plain": [
       "array([[0, 0, 0, 0, 0, 0, 0, 0, 0, 0, 0, 0, 0, 0, 0, 0, 0, 0, 0, 0, 0, 0,\n",
       "        0, 0, 0, 0, 0, 0, 0, 0, 0, 0, 0, 0, 0, 0, 0, 0, 0, 0, 0, 0, 0, 0,\n",
       "        0, 0, 0, 0, 0, 0]])"
      ]
     },
     "execution_count": 121,
     "metadata": {},
     "output_type": "execute_result"
    }
   ],
   "source": [
    "predictions"
   ]
  },
  {
   "cell_type": "code",
   "execution_count": 122,
   "metadata": {},
   "outputs": [
    {
     "data": {
      "text/plain": [
       "array([[1, 1, 1, 1, 1, 0, 1, 1, 1, 1, 1, 1, 1, 0, 0, 1, 0, 1, 1, 1, 1, 0,\n",
       "        0, 1, 1, 1, 1, 0, 1, 0, 1, 1, 1, 1, 0, 0, 0, 1, 0, 0, 1, 1, 1, 0,\n",
       "        0, 0, 1, 1, 1, 0]])"
      ]
     },
     "execution_count": 122,
     "metadata": {},
     "output_type": "execute_result"
    }
   ],
   "source": [
    "Y_test"
   ]
  },
  {
   "cell_type": "code",
   "execution_count": 89,
   "metadata": {},
   "outputs": [],
   "source": [
    "Z = np.random.randn(3,3)"
   ]
  },
  {
   "cell_type": "code",
   "execution_count": 90,
   "metadata": {},
   "outputs": [],
   "source": [
    "D = np.random.randn(3, 3)\n",
    "D = (D < 0.7)\n",
    "# Z = np.multiply(Z, D)\n",
    "# Z = Z/keep_prob\n",
    "   "
   ]
  },
  {
   "cell_type": "code",
   "execution_count": 1591,
   "metadata": {},
   "outputs": [
    {
     "data": {
      "text/plain": [
       "array([[ True,  True,  True],\n",
       "       [ True, False,  True],\n",
       "       [False, False,  True]])"
      ]
     },
     "execution_count": 1591,
     "metadata": {},
     "output_type": "execute_result"
    }
   ],
   "source": [
    "D"
   ]
  },
  {
   "cell_type": "code",
   "execution_count": 1592,
   "metadata": {},
   "outputs": [
    {
     "data": {
      "text/plain": [
       "array([[ 1.35426922, -0.04410415,  0.69274349],\n",
       "       [-0.54776281, -0.23763207, -0.87245506],\n",
       "       [-0.05849467,  0.43358628,  0.14118822]])"
      ]
     },
     "execution_count": 1592,
     "metadata": {},
     "output_type": "execute_result"
    }
   ],
   "source": [
    "Z"
   ]
  },
  {
   "cell_type": "code",
   "execution_count": 1593,
   "metadata": {},
   "outputs": [],
   "source": [
    "Z = np.multiply(Z, D) + 0"
   ]
  },
  {
   "cell_type": "code",
   "execution_count": 1594,
   "metadata": {},
   "outputs": [
    {
     "data": {
      "text/plain": [
       "array([[ 1.35426922, -0.04410415,  0.69274349],\n",
       "       [-0.54776281,  0.        , -0.87245506],\n",
       "       [ 0.        ,  0.        ,  0.14118822]])"
      ]
     },
     "execution_count": 1594,
     "metadata": {},
     "output_type": "execute_result"
    }
   ],
   "source": [
    "Z"
   ]
  },
  {
   "cell_type": "code",
   "execution_count": 1559,
   "metadata": {},
   "outputs": [],
   "source": [
    "Z = Z / 0.7"
   ]
  },
  {
   "cell_type": "code",
   "execution_count": 1560,
   "metadata": {},
   "outputs": [
    {
     "data": {
      "text/plain": [
       "array([[ 1.90181093,  2.99659619,  0.        ],\n",
       "       [-2.39419515,  1.14830424, -0.33574501],\n",
       "       [ 2.33643954, -0.31044426,  1.69344703]])"
      ]
     },
     "execution_count": 1560,
     "metadata": {},
     "output_type": "execute_result"
    }
   ],
   "source": [
    "Z"
   ]
  },
  {
   "cell_type": "code",
   "execution_count": 34,
   "metadata": {},
   "outputs": [],
   "source": [
    "\n",
    "    def apply_dropout(A, keep_prob):\n",
    "        D = np.random.randn(A.shape[0], A.shape[1])\n",
    "        print(D)\n",
    "        D = (D < keep_prob).astype(int)\n",
    "        A = np.multiply(A, D) + 0\n",
    "        A = A / keep_prob\n",
    "        return A"
   ]
  },
  {
   "cell_type": "code",
   "execution_count": null,
   "metadata": {},
   "outputs": [],
   "source": []
  },
  {
   "cell_type": "code",
   "execution_count": 67,
   "metadata": {},
   "outputs": [],
   "source": []
  },
  {
   "cell_type": "code",
   "execution_count": null,
   "metadata": {},
   "outputs": [],
   "source": []
  },
  {
   "cell_type": "code",
   "execution_count": null,
   "metadata": {},
   "outputs": [],
   "source": []
  },
  {
   "cell_type": "code",
   "execution_count": null,
   "metadata": {},
   "outputs": [],
   "source": []
  },
  {
   "cell_type": "code",
   "execution_count": null,
   "metadata": {},
   "outputs": [],
   "source": []
  }
 ],
 "metadata": {
  "kernelspec": {
   "display_name": "Python 3",
   "language": "python",
   "name": "python3"
  },
  "language_info": {
   "codemirror_mode": {
    "name": "ipython",
    "version": 3
   },
   "file_extension": ".py",
   "mimetype": "text/x-python",
   "name": "python",
   "nbconvert_exporter": "python",
   "pygments_lexer": "ipython3",
   "version": "3.7.5"
  }
 },
 "nbformat": 4,
 "nbformat_minor": 4
}
