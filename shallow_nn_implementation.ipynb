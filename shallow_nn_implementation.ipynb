{
 "cells": [
  {
   "cell_type": "code",
   "execution_count": 159,
   "metadata": {},
   "outputs": [],
   "source": [
    "import numpy as np\n",
    "from sklearn.datasets import make_moons\n",
    "from matplotlib import pyplot as plt\n",
    "from matplotlib.colors import ListedColormap\n",
    "from sklearn.model_selection import train_test_split"
   ]
  },
  {
   "cell_type": "code",
   "execution_count": 160,
   "metadata": {},
   "outputs": [],
   "source": [
    "def sigmoid(z):\n",
    "    return 1/(1+np.exp(-z))"
   ]
  },
  {
   "cell_type": "code",
   "execution_count": 161,
   "metadata": {},
   "outputs": [],
   "source": [
    "def init_params(dim, nodes, size_output_layer):\n",
    "    b1 = np.zeros((nodes,1))\n",
    "    w1 = np.random.randint(100, size = (nodes, dim)) * 0.01\n",
    "    \n",
    "    b2 = np.zeros((size_output_layer, 1))\n",
    "    w2 = np.random.randint(100, size = (size_output_layer, nodes)) * 0.01\n",
    "    \n",
    "    params = {\n",
    "        'w1' : w1,\n",
    "        'b1' : b1,\n",
    "        'w2' : w2,\n",
    "        'b2' : b2\n",
    "    }\n",
    "    \n",
    "    return params"
   ]
  },
  {
   "cell_type": "code",
   "execution_count": 162,
   "metadata": {},
   "outputs": [],
   "source": [
    "def propagate_forward(x, params):\n",
    "    \n",
    "    w1 = params['w1']\n",
    "    w2 = params['w2']\n",
    "    b1 = params['b1']\n",
    "    b2 = params['b2']\n",
    "    \n",
    "    Z1 = np.dot(w1, x) + b1\n",
    "    A1 = np.tanh(Z1)    \n",
    "    \n",
    "    Z2 = np.dot(w2, A1) + b2\n",
    "    A2 = sigmoid(Z2)\n",
    "    cache = {\n",
    "            \"Z1\": Z1,\n",
    "            \"A1\": A1,\n",
    "            \"A2\": A2,\n",
    "            \"Z2\": Z2,\n",
    "           }\n",
    "    return cache"
   ]
  },
  {
   "cell_type": "code",
   "execution_count": 163,
   "metadata": {},
   "outputs": [],
   "source": [
    "def calc_cost(y, A2):\n",
    "    \n",
    "    m = y.shape[1]\n",
    "    \n",
    "    cost = -(1/m) * np.sum(np.dot(y, np.log(A2).T) + np.dot((1-y), (np.log(1-A2)).T))\n",
    "    cost = float(np.squeeze(cost))\n",
    "    return cost"
   ]
  },
  {
   "cell_type": "code",
   "execution_count": 164,
   "metadata": {},
   "outputs": [],
   "source": [
    "def propagate_backwards(cache, params, y, x):\n",
    "    \n",
    "    A1 = cache['A1']\n",
    "    A2 = cache['A2']\n",
    "    \n",
    "    w1 = params['w1']\n",
    "    w2 = params['w2']\n",
    "    \n",
    "    m = x.shape[1]\n",
    "    \n",
    "    dz2 = A2 - y\n",
    "    \n",
    "    dw2 = (1/m) * np.dot(dz2, A1.T)\n",
    "    db2 = (1/m) * np.sum(dz2, axis = 1, keepdims = True)\n",
    "    \n",
    "    dz1 = np.multiply(np.dot(w2.T, dz2), (1-np.power(A1,2))) \n",
    "    \n",
    "    dw1 = (1/m) * np.dot(dz1, x.T)\n",
    "    db1 = (1/m) * np.sum(dz1, axis = 1, keepdims = True)\n",
    "    \n",
    "    grads = {\n",
    "        \"dw2\": dw2,\n",
    "        \"db2\": db2,\n",
    "        \"dw1\": dw1,\n",
    "        \"db1\": db1,\n",
    "    }\n",
    "    return grads\n"
   ]
  },
  {
   "cell_type": "code",
   "execution_count": 165,
   "metadata": {},
   "outputs": [],
   "source": [
    "def update_params(grads, params, learning_rate):\n",
    "    w2 = params['w2']\n",
    "    b2 = params['b2']\n",
    "    w1 = params['w1']\n",
    "    b1 = params['b1']\n",
    "    \n",
    "    dw2 = grads['dw2']\n",
    "    db2 = grads['db2']\n",
    "    dw1 = grads['dw1']\n",
    "    db1 = grads['db1']\n",
    "    \n",
    "    w2 = w2 - (learning_rate * dw2)\n",
    "    b2 = b2 - (learning_rate * db2)\n",
    "    \n",
    "    w1 = w1 - (learning_rate * dw1)\n",
    "    b1 = b1 - (learning_rate * db1)\n",
    "    \n",
    "    params = {\n",
    "        'w2' : w2,\n",
    "        'b2' : b2,\n",
    "        'w1' : w1,\n",
    "        'b1' : b1\n",
    "    }\n",
    "    return params"
   ]
  },
  {
   "cell_type": "code",
   "execution_count": 166,
   "metadata": {},
   "outputs": [],
   "source": [
    "def nn_model(x_train, y_train, num_hidden_units, num_iterations, learning_rate = 0.01):\n",
    "    np.random.seed(3)\n",
    "    \n",
    "    #Initialize parameters\n",
    "    n_x = x_train.shape[0]\n",
    "    n_h = num_hidden_units\n",
    "    n_y = y_train.shape[0]\n",
    "    \n",
    "    params = init_params(n_x, n_h, n_y)\n",
    "    \n",
    "    for i in range(num_iterations):\n",
    "        #Forward Propagation\n",
    "        cache = propagate_forward(x_train, params)\n",
    "        #Calculate cost\n",
    "        cost = calc_cost(y_train, cache['A2'])\n",
    "        if(i % 1000 == 0):\n",
    "            {\n",
    "                print(\"Cost after iteration \" + str(i) + \":\" + \" \" + str(cost))\n",
    "            }\n",
    "        #Backward Propagation\n",
    "        grads = propagate_backwards(cache, params, y_train, x_train)\n",
    "        #Update parameters\n",
    "        params = update_params(grads, params, learning_rate)        \n",
    "    \n",
    "    \n",
    "    return params"
   ]
  },
  {
   "cell_type": "code",
   "execution_count": 167,
   "metadata": {},
   "outputs": [],
   "source": [
    "def predict(x, params):\n",
    "    \n",
    "    cache = propagate_forward(x, params)\n",
    "    predictions = (cache['A2'] >= 0.5)\n",
    "\n",
    "    return predictions"
   ]
  },
  {
   "cell_type": "code",
   "execution_count": 168,
   "metadata": {},
   "outputs": [],
   "source": [
    "def plot_decision_boundary(model, X, y):\n",
    "    # Set min and max values and give it some padding\n",
    "    x_min, x_max = X[0, :].min() - 1, X[0, :].max() + 1\n",
    "    y_min, y_max = X[1, :].min() - 1, X[1, :].max() + 1\n",
    "    h = 0.01\n",
    "    # Generate a grid of points with distance h between them\n",
    "    xx, yy = np.meshgrid(np.arange(x_min, x_max, h), np.arange(y_min, y_max, h))\n",
    "    # Predict the function value for the whole grid\n",
    "    Z = model(np.c_[xx.ravel(), yy.ravel()])\n",
    "    Z = Z.reshape(xx.shape)\n",
    "    y = y.reshape(y.shape[1])\n",
    "    # Plot the contour and training examples\n",
    "    plt.contourf(xx, yy, Z, cmap=plt.cm.Spectral)\n",
    "    plt.ylabel('x2')\n",
    "    plt.xlabel('x1')\n",
    "    plt.scatter(X[0, :], X[1, :], c=y, cmap=plt.cm.Spectral)"
   ]
  },
  {
   "cell_type": "code",
   "execution_count": 169,
   "metadata": {},
   "outputs": [],
   "source": [
    "def accuracy(predictions, y_test):\n",
    "    x = (np.abs(predictions - y_test)).sum()\n",
    "    acc = 100 - ((x/y_test.shape[1]) * 100)\n",
    "    return str(acc) + \"%\""
   ]
  },
  {
   "cell_type": "code",
   "execution_count": 209,
   "metadata": {},
   "outputs": [],
   "source": [
    "#Creating random dataset\n",
    "dataset = make_moons(noise=0.3, random_state=0)\n",
    "\n",
    "X = dataset[0]\n",
    "Y = dataset[1]\n",
    "\n",
    "X_train, X_test, y_train, y_test = train_test_split(X, Y, test_size=.4)\n",
    "\n",
    "y_test = y_test.reshape(1, y_test.shape[0])\n",
    "y_train = y_train.reshape(1, y_train.shape[0])\n",
    "\n",
    "X_train = X_train.T\n",
    "X_test = X_test.T"
   ]
  },
  {
   "cell_type": "code",
   "execution_count": 210,
   "metadata": {},
   "outputs": [
    {
     "data": {
      "image/png": "[encoded data removed]",
      "text/plain": [
       "<Figure size 432x288 with 1 Axes>"
      ]
     },
     "metadata": {
      "needs_background": "light"
     },
     "output_type": "display_data"
    }
   ],
   "source": [
    "X, Y = dataset\n",
    "X, Y = X.T, Y.reshape(Y.shape[0])\n",
    "\n",
    "# Visualize the data\n",
    "plt.scatter(X[0, :], X[1, :], c = Y);"
   ]
  },
  {
   "cell_type": "code",
   "execution_count": 211,
   "metadata": {},
   "outputs": [
    {
     "name": "stdout",
     "output_type": "stream",
     "text": [
      "Cost after iteration 0: 0.7531750209192234\n",
      "Cost after iteration 1000: 0.009657375307833822\n",
      "Cost after iteration 2000: 0.0029535406686967644\n",
      "Cost after iteration 3000: 0.001638371802758041\n",
      "Cost after iteration 4000: 0.0011099300686392935\n",
      "Cost after iteration 5000: 0.0008306213518255164\n",
      "Cost after iteration 6000: 0.0006596416923152808\n",
      "Cost after iteration 7000: 0.0005449089000260608\n",
      "Cost after iteration 8000: 0.00046291885058787925\n",
      "Cost after iteration 9000: 0.00040157941885325145\n"
     ]
    }
   ],
   "source": [
    "params = nn_model(X_train, y_train, 5, 10000, 1.2)"
   ]
  },
  {
   "cell_type": "code",
   "execution_count": 212,
   "metadata": {},
   "outputs": [],
   "source": [
    "predictions = predict(X_test, params)"
   ]
  },
  {
   "cell_type": "code",
   "execution_count": 213,
   "metadata": {},
   "outputs": [
    {
     "data": {
      "image/png": "[encoded data removed]",
      "text/plain": [
       "<Figure size 432x288 with 1 Axes>"
      ]
     },
     "metadata": {
      "needs_background": "light"
     },
     "output_type": "display_data"
    }
   ],
   "source": [
    "plot_decision_boundary(lambda x: predict(x.T, params), X_test, y_test)"
   ]
  },
  {
   "cell_type": "code",
   "execution_count": 214,
   "metadata": {},
   "outputs": [
    {
     "data": {
      "text/plain": [
       "'92.5%'"
      ]
     },
     "execution_count": 214,
     "metadata": {},
     "output_type": "execute_result"
    }
   ],
   "source": [
    "accuracy(predictions, y_test)"
   ]
  },
  {
   "cell_type": "code",
   "execution_count": null,
   "metadata": {},
   "outputs": [],
   "source": []
  }
 ],
 "metadata": {
  "kernelspec": {
   "display_name": "Python 3",
   "language": "python",
   "name": "python3"
  },
  "language_info": {
   "codemirror_mode": {
    "name": "ipython",
    "version": 3
   },
   "file_extension": ".py",
   "mimetype": "text/x-python",
   "name": "python",
   "nbconvert_exporter": "python",
   "pygments_lexer": "ipython3",
   "version": "3.7.4"
  }
 },
 "nbformat": 4,
 "nbformat_minor": 2
}
