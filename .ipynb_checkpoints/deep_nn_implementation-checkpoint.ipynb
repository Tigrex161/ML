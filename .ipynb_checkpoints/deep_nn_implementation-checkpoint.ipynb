{
 "cells": [
  {
   "cell_type": "code",
   "execution_count": 1,
   "metadata": {},
   "outputs": [],
   "source": [
    "import numpy as np\n",
    "from sklearn.datasets import make_moons\n",
    "from matplotlib import pyplot as plt\n",
    "from matplotlib.colors import ListedColormap\n",
    "from sklearn.model_selection import train_test_split"
   ]
  },
  {
   "cell_type": "code",
   "execution_count": 2,
   "metadata": {},
   "outputs": [],
   "source": [
    "def sigmoid(z):\n",
    "    return 1/(1+np.exp(-z))"
   ]
  },
  {
   "cell_type": "code",
   "execution_count": 3,
   "metadata": {},
   "outputs": [],
   "source": [
    "def der_sigmoid(z):\n",
    "    return np.multiply(sigmoid(z) , (1 - sigmoid(z)))"
   ]
  },
  {
   "cell_type": "code",
   "execution_count": 4,
   "metadata": {},
   "outputs": [],
   "source": [
    "def relu(z):\n",
    "    return np.maximum(0, z)"
   ]
  },
  {
   "cell_type": "code",
   "execution_count": 5,
   "metadata": {},
   "outputs": [],
   "source": [
    "def der_relu(z):\n",
    "    return np.greater(z, 0)"
   ]
  },
  {
   "cell_type": "code",
   "execution_count": 6,
   "metadata": {},
   "outputs": [],
   "source": [
    "def der_tanh(z):\n",
    "    return (1-np.power(z,2))"
   ]
  },
  {
   "cell_type": "code",
   "execution_count": 7,
   "metadata": {},
   "outputs": [],
   "source": [
    "#Initializes W and b for an L layer NN\n",
    "\n",
    "def init_params(layers):\n",
    "    #Inputs\n",
    "    #layers: list containing number of units in each layer(including input layer)\n",
    "\n",
    "    #Outputs\n",
    "    #parameters: dict containing all initialized parameters(W1,b1,W2,b2...WL,bL)\n",
    "    np.random.seed(2)\n",
    "    L = len(layers)\n",
    "    parameters = {}\n",
    "    \n",
    "    for l in range(1, L):\n",
    "        parameters['w' + str(l)] = (np.random.randint(100, size = (layers[l], layers[l-1]))) * 0.01\n",
    "        parameters['b' + str(l)] = np.zeros((layers[l], 1))\n",
    "\n",
    "    return parameters"
   ]
  },
  {
   "cell_type": "code",
   "execution_count": 8,
   "metadata": {},
   "outputs": [],
   "source": [
    "def forward_prop_linear(A, W, b):\n",
    "    Z = []\n",
    "    Z = np.dot(W, A) + b\n",
    "    return Z"
   ]
  },
  {
   "cell_type": "code",
   "execution_count": 9,
   "metadata": {},
   "outputs": [],
   "source": [
    "def forward_prop_activation(Z, activation):\n",
    "    A = []\n",
    "    if(activation == 'relu'):\n",
    "        A = relu(Z)\n",
    "    if(activation == 'sigmoid'):\n",
    "        A = sigmoid(Z)\n",
    "        \n",
    "    if(activation == 'tanh'):\n",
    "        A = np.tanh(Z)\n",
    "    return A"
   ]
  },
  {
   "cell_type": "code",
   "execution_count": 10,
   "metadata": {},
   "outputs": [],
   "source": [
    "def forward_prop(X, params, activations):\n",
    "    L = (len(params) // 2) + 1\n",
    "    cache = {}\n",
    "    A_prev = X\n",
    "    cache['A0'] = X\n",
    "    for l in range(1, L):\n",
    "        cache['Z' + str(l)] = forward_prop_linear(A_prev, params['w' + str(l)], params['b' + str(l)])\n",
    "        cache['A' + str(l)] = forward_prop_activation(cache['Z' + str(l)], activations[l])\n",
    "        A_prev = cache['A' + str(l)]\n",
    "    return cache"
   ]
  },
  {
   "cell_type": "code",
   "execution_count": 11,
   "metadata": {},
   "outputs": [],
   "source": [
    "def calc_cost(y, A):\n",
    "    m = (y.shape[1])\n",
    "    cost = (-1/m) * np.sum(np.dot(y, np.log(A).T) + np.dot((1-y), np.log(1-A).T))\n",
    "    cost = np.squeeze(cost)\n",
    "    \n",
    "    return cost    "
   ]
  },
  {
   "cell_type": "code",
   "execution_count": 12,
   "metadata": {},
   "outputs": [],
   "source": [
    "def back_prop_activation(w, dz, A, activation):\n",
    "    if (activation == 'relu'):\n",
    "        dz_new = np.multiply(np.dot(w.T, dz), der_relu(A))\n",
    "    if (activation == 'sigmoid'):\n",
    "        dz_new = np.multiply(np.dot(w.T, dz), der_sigmoid(A))\n",
    "    if (activation == 'tanh'):\n",
    "        dz_new = np.multiply(np.dot(w.T, dz), der_tanh(A))\n",
    "    \n",
    "    return dz_new"
   ]
  },
  {
   "cell_type": "code",
   "execution_count": 13,
   "metadata": {},
   "outputs": [],
   "source": [
    "def back_prop(y, cache, params, act_funcs):\n",
    "    L = (len(cache) // 2) + 1\n",
    "    grads = {}\n",
    "    m = y.shape[1]\n",
    "    for l in reversed(range(1, L)):\n",
    "        if(l == L - 1):\n",
    "            grads['dz' + str(l)] = cache['A' + str(l)] - y \n",
    "        else:\n",
    "            grads['dz' + str(l)] = back_prop_activation(params['w' + str(l+1)], grads['dz' + str(l+1)], cache['A'+str(l)], act_funcs[l]) \n",
    "        grads['dw' + str(l)] = 1/m * np.dot(grads['dz' + str(l)], cache['A' + str(l-1)].T)\n",
    "        \n",
    "        grads['db' + str(l)] = 1/m * np.sum(grads['dz' + str(l)], axis = 1, keepdims=True)\n",
    "    return grads      "
   ]
  },
  {
   "cell_type": "code",
   "execution_count": 14,
   "metadata": {},
   "outputs": [],
   "source": [
    "def update_params(L, params, grads, learning_rate = 0.1):\n",
    "    for l in range(1, L):\n",
    "        params['w' + str(l)] = params['w' + str(l)] - learning_rate * grads['dw' + str(l)]   \n",
    "        params['b' + str(l)] = params['b' + str(l)] - learning_rate * grads['db' + str(l)]\n",
    "        \n",
    "    return params"
   ]
  },
  {
   "cell_type": "code",
   "execution_count": 15,
   "metadata": {},
   "outputs": [],
   "source": [
    "def nn_model(X, Y, learning_rate, num_iterations, layers, activation_functions):\n",
    "    np.random.seed(3)\n",
    "    L = len(layers)\n",
    "    print(L)\n",
    "    params = init_params(layers)\n",
    "    for i in range(num_iterations):\n",
    "        cache = forward_prop(X, params, activation_functions)\n",
    "        cost = calc_cost(Y, cache['A' + str(L-1)])\n",
    "        if(i % 5000 == 0):\n",
    "            print(cost)\n",
    "        grads = back_prop(Y, cache, params, activation_functions)\n",
    "        params = update_params(L, params, grads, learning_rate)\n",
    "    \n",
    "    return params"
   ]
  },
  {
   "cell_type": "code",
   "execution_count": 16,
   "metadata": {},
   "outputs": [],
   "source": [
    "def predict(x_test, params, activations):\n",
    "    L = len(params) // 2\n",
    "    cache = forward_prop(x_test, params, activations)\n",
    "    \n",
    "    predictions = cache['A' + str(L)] >= 0.5\n",
    "    \n",
    "    return predictions"
   ]
  },
  {
   "cell_type": "code",
   "execution_count": 17,
   "metadata": {},
   "outputs": [],
   "source": [
    "def plot_decision_boundary(model, X, y):\n",
    "    # Set min and max values and give it some padding\n",
    "    x_min, x_max = X[0, :].min() - 1, X[0, :].max() + 1\n",
    "    y_min, y_max = X[1, :].min() - 1, X[1, :].max() + 1\n",
    "    h = 0.01\n",
    "    # Generate a grid of points with distance h between them\n",
    "    xx, yy = np.meshgrid(np.arange(x_min, x_max, h), np.arange(y_min, y_max, h))\n",
    "    # Predict the function value for the whole grid\n",
    "    Z = model(np.c_[xx.ravel(), yy.ravel()])\n",
    "    Z = Z.reshape(xx.shape)\n",
    "    y = y.reshape(y.shape[1])\n",
    "    # Plot the contour and training examples\n",
    "    plt.contourf(xx, yy, Z, cmap=plt.cm.Spectral)\n",
    "    plt.ylabel('x2')\n",
    "    plt.xlabel('x1')\n",
    "    plt.scatter(X[0, :], X[1, :], c=y, cmap=plt.cm.Spectral)"
   ]
  },
  {
   "cell_type": "code",
   "execution_count": 18,
   "metadata": {},
   "outputs": [],
   "source": [
    "def accuracy(predictions, y_test):\n",
    "    x = (np.abs(predictions - y_test)).sum()\n",
    "    acc = 100 - ((x/y_test.shape[1]) * 100)\n",
    "    return str(acc) + \"%\""
   ]
  },
  {
   "cell_type": "code",
   "execution_count": 35,
   "metadata": {},
   "outputs": [],
   "source": [
    "dataset = make_moons(noise=0.3, random_state=2)\n",
    "\n",
    "X = dataset[0]\n",
    "Y = dataset[1]\n",
    "\n",
    "X_train, X_test, y_train, y_test = train_test_split(X, Y, test_size=.4)\n",
    "\n",
    "y_test = y_test.reshape(1, y_test.shape[0])\n",
    "y_train = y_train.reshape(1, y_train.shape[0])\n",
    "\n",
    "X_train = X_train.T\n",
    "X_test = X_test.T"
   ]
  },
  {
   "cell_type": "code",
   "execution_count": 36,
   "metadata": {},
   "outputs": [
    {
     "data": {
      "image/png": "[encoded data removed]",
      "text/plain": [
       "<Figure size 432x288 with 1 Axes>"
      ]
     },
     "metadata": {
      "needs_background": "light"
     },
     "output_type": "display_data"
    }
   ],
   "source": [
    "X, Y = dataset\n",
    "X, Y = X.T, Y.reshape(Y.shape[0])\n",
    "\n",
    "# Visualize the data\n",
    "plt.scatter(X[0, :], X[1, :], c = Y);"
   ]
  },
  {
   "cell_type": "code",
   "execution_count": 37,
   "metadata": {},
   "outputs": [],
   "source": [
    "layers = [X_train.shape[0], 4, 4, 4, 4, 4, 1]\n",
    "act_funcs = ['input', 'tanh','tanh', 'tanh', 'tanh','tanh', 'sigmoid']"
   ]
  },
  {
   "cell_type": "code",
   "execution_count": 38,
   "metadata": {},
   "outputs": [
    {
     "name": "stdout",
     "output_type": "stream",
     "text": [
      "7\n",
      "0.9695159446559889\n",
      "0.10346982138461325\n"
     ]
    }
   ],
   "source": [
    "params = nn_model(X_train, y_train, 0.65, 10000, layers, act_funcs)"
   ]
  },
  {
   "cell_type": "code",
   "execution_count": 39,
   "metadata": {},
   "outputs": [],
   "source": [
    "predictions = predict(X_test, params, act_funcs)"
   ]
  },
  {
   "cell_type": "code",
   "execution_count": 40,
   "metadata": {},
   "outputs": [
    {
     "data": {
      "image/png": "[encoded data removed]",
      "text/plain": [
       "<Figure size 432x288 with 1 Axes>"
      ]
     },
     "metadata": {
      "needs_background": "light"
     },
     "output_type": "display_data"
    }
   ],
   "source": [
    "plot_decision_boundary(lambda x: predict(x.T, params, act_funcs), X_test, y_test)\n"
   ]
  },
  {
   "cell_type": "code",
   "execution_count": 41,
   "metadata": {},
   "outputs": [
    {
     "data": {
      "text/plain": [
       "'92.5%'"
      ]
     },
     "execution_count": 41,
     "metadata": {},
     "output_type": "execute_result"
    }
   ],
   "source": [
    "accuracy(predictions, y_test)\n"
   ]
  },
  {
   "cell_type": "code",
   "execution_count": null,
   "metadata": {},
   "outputs": [],
   "source": []
  }
 ],
 "metadata": {
  "kernelspec": {
   "display_name": "Python 3",
   "language": "python",
   "name": "python3"
  },
  "language_info": {
   "codemirror_mode": {
    "name": "ipython",
    "version": 3
   },
   "file_extension": ".py",
   "mimetype": "text/x-python",
   "name": "python",
   "nbconvert_exporter": "python",
   "pygments_lexer": "ipython3",
   "version": "3.7.4"
  }
 },
 "nbformat": 4,
 "nbformat_minor": 2
}
