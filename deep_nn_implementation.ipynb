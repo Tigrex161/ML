{
 "cells": [
  {
   "cell_type": "code",
   "execution_count": 2,
   "metadata": {},
   "outputs": [],
   "source": [
    "import numpy as np\n",
    "from sklearn.datasets import make_moons\n",
    "from sklearn.datasets import make_circles\n",
    "from matplotlib import pyplot as plt\n",
    "from matplotlib.colors import ListedColormap\n",
    "from sklearn.model_selection import train_test_split\n",
    "import h5py"
   ]
  },
  {
   "cell_type": "code",
   "execution_count": 3,
   "metadata": {},
   "outputs": [],
   "source": [
    "def sigmoid(Z):\n",
    "    A = 1/(1+np.exp(-Z))\n",
    "    cache = Z\n",
    "    return A, cache"
   ]
  },
  {
   "cell_type": "code",
   "execution_count": 4,
   "metadata": {},
   "outputs": [],
   "source": [
    "def d_sigmoid(dA, cache):\n",
    "    Z = cache\n",
    "    s = 1/(1+np.exp(-Z))\n",
    "    dZ = dA * s * (1-s)\n",
    "    return dZ"
   ]
  },
  {
   "cell_type": "code",
   "execution_count": 5,
   "metadata": {},
   "outputs": [],
   "source": [
    "def relu(Z):\n",
    "    A = np.maximum(0, Z)\n",
    "    cache = Z\n",
    "    return A, cache"
   ]
  },
  {
   "cell_type": "code",
   "execution_count": 6,
   "metadata": {},
   "outputs": [],
   "source": [
    "def d_relu(dA, cache):\n",
    "    Z = cache\n",
    "    dZ = np.array(dA, copy = True)\n",
    "    \n",
    "    dZ[Z <= 0] = 0\n",
    "    assert (dZ.shape == Z.shape)\n",
    "    \n",
    "    return dZ"
   ]
  },
  {
   "cell_type": "code",
   "execution_count": 24,
   "metadata": {},
   "outputs": [],
   "source": [
    "def init_params(layers):\n",
    "    \n",
    "    np.random.seed(2)\n",
    "    \n",
    "    params = {}\n",
    "    \n",
    "    L = len(layers)\n",
    "    \n",
    "    for l in range(1,L):\n",
    "        params['W' + str(l)] = np.random.randn(layers[l], layers[l-1]) / np.sqrt((layers[l-1])) #He initialization\n",
    "        \n",
    "        params['b' + str(l)] = np.zeros((layers[l], 1))\n",
    "        \n",
    "    return params"
   ]
  },
  {
   "cell_type": "code",
   "execution_count": 25,
   "metadata": {},
   "outputs": [],
   "source": [
    "def forward_prop(X, params, activations):\n",
    "    L = len(params) // 2\n",
    "    caches = []\n",
    "    A = X\n",
    "    for l in range(L):\n",
    "        A_prev = A\n",
    "        A, cache = linear_activation_forward(l+1, A_prev, params['W'+str(l+1)], params['b'+str(l+1)], activations[l+1]) \n",
    "        caches.append(cache)    \n",
    "    return A, caches"
   ]
  },
  {
   "cell_type": "code",
   "execution_count": 26,
   "metadata": {},
   "outputs": [],
   "source": [
    "def linear_activation_forward(l, A, W, b, activation):\n",
    "    linear_cache = {}\n",
    "    activation_cache = {}\n",
    "    Z, linear_cache = linear_forward(A, W, b)\n",
    "    \n",
    "    if activation == 'relu':\n",
    "        A, activation_cache = relu(Z)\n",
    "    \n",
    "    elif activation == 'sigmoid':\n",
    "        A, activation_cache = sigmoid(Z)     \n",
    "    \n",
    "    cache = (linear_cache, activation_cache)\n",
    "    \n",
    "    return A, cache"
   ]
  },
  {
   "cell_type": "code",
   "execution_count": 27,
   "metadata": {},
   "outputs": [],
   "source": [
    "def linear_forward(A, W, b):\n",
    "    Z = np.dot(W, A) + b\n",
    "    cache = (A,W,b)\n",
    "    return Z, cache"
   ]
  },
  {
   "cell_type": "code",
   "execution_count": 28,
   "metadata": {},
   "outputs": [],
   "source": [
    "def calc_cost(A, y):\n",
    "    m = y.shape[1]\n",
    "    cost = -(1/m) * np.sum(np.dot(y, np.log(A).T) + np.dot((1-y), np.log(1-A).T))\n",
    "\n",
    "    return cost"
   ]
  },
  {
   "cell_type": "code",
   "execution_count": 29,
   "metadata": {},
   "outputs": [],
   "source": [
    "def back_prop(A, y, cache, activations):\n",
    "    L = len(cache)\n",
    "    grads = {}\n",
    "    dAL = -(np.divide(y, A)  - np.divide((1-y), (1-A)))\n",
    "    \n",
    "    current_cache = cache[L-1]\n",
    "    \n",
    "    grads['dA'+str(L-1)], grads['dW'+str(L)], grads['db'+str(L)] = linear_activation_back(dAL, current_cache, activations[L])\n",
    "            \n",
    "    \n",
    "    for l in reversed(range(L-1)):\n",
    "        current_cache = cache[l]\n",
    "        grads['dA'+str(l)], grads['dW'+str(l+1)], grads['db'+str(l+1)] = linear_activation_back(grads['dA'+str(l+1)], current_cache, activations[l+1])\n",
    "        \n",
    "    \n",
    "    return grads"
   ]
  },
  {
   "cell_type": "code",
   "execution_count": 30,
   "metadata": {},
   "outputs": [],
   "source": [
    "def linear_activation_back(dA, cache, activation):\n",
    "    \n",
    "    if activation == 'relu':\n",
    "        dZ = d_relu(dA, cache[1])\n",
    "    elif activation == 'sigmoid':\n",
    "        dZ = d_sigmoid(dA, cache[1])    \n",
    "    \n",
    "    dA_prev, dW, db = linear_back(dZ, cache[0])\n",
    "    \n",
    "    return dA_prev, dW, db\n",
    "    "
   ]
  },
  {
   "cell_type": "code",
   "execution_count": 31,
   "metadata": {},
   "outputs": [],
   "source": [
    "def linear_back(dZ, cache):\n",
    "    A_prev, W, b = cache\n",
    "    m = A_prev.shape[1]\n",
    "    \n",
    "    dA_prev = np.dot(W.T, dZ) \n",
    "    dW = 1/m * np.dot(dZ, A_prev.T)\n",
    "    db = 1/m * np.sum(dZ, axis = 1, keepdims = True)\n",
    "    \n",
    "    return dA_prev, dW, db"
   ]
  },
  {
   "cell_type": "code",
   "execution_count": 32,
   "metadata": {},
   "outputs": [],
   "source": [
    "def update_params(parameters, grads, learning_rate):\n",
    "    L = len(parameters) // 2\n",
    "    for l in range(1, L+1):\n",
    "        parameters['W'+str(l)] = parameters['W'+str(l)] - learning_rate*grads['dW'+str(l)]\n",
    "        parameters['b'+str(l)] = parameters['b'+str(l)] - learning_rate*grads['db'+str(l)]\n",
    "    return parameters"
   ]
  },
  {
   "cell_type": "code",
   "execution_count": 33,
   "metadata": {},
   "outputs": [],
   "source": [
    "def predict(x_test, params, activations):\n",
    "    L = len(params) // 2\n",
    "    A, cache = forward_prop(x_test, params, activations)\n",
    "    \n",
    "    predictions = (A >= 0.5).astype(int)\n",
    "    \n",
    "    return predictions"
   ]
  },
  {
   "cell_type": "code",
   "execution_count": 34,
   "metadata": {},
   "outputs": [],
   "source": [
    "def plot_decision_boundary(model, X, y):\n",
    "    # Set min and max values and give it some padding\n",
    "    x_min, x_max = X[0, :].min() - 1, X[0, :].max() + 1\n",
    "    y_min, y_max = X[1, :].min() - 1, X[1, :].max() + 1\n",
    "    h = 0.01\n",
    "    # Generate a grid of points with distance h between them\n",
    "    xx, yy = np.meshgrid(np.arange(x_min, x_max, h), np.arange(y_min, y_max, h))\n",
    "    # Predict the function value for the whole grid\n",
    "    Z = model(np.c_[xx.ravel(), yy.ravel()])\n",
    "    Z = Z.reshape(xx.shape)\n",
    "    y = y.reshape(y.shape[1])\n",
    "    # Plot the contour and training examples\n",
    "    plt.contourf(xx, yy, Z, cmap=plt.cm.Spectral)\n",
    "    plt.ylabel('x2')\n",
    "    plt.xlabel('x1')\n",
    "    plt.scatter(X[0, :], X[1, :], c=y, cmap=plt.cm.Spectral)"
   ]
  },
  {
   "cell_type": "code",
   "execution_count": 35,
   "metadata": {},
   "outputs": [],
   "source": [
    "def accuracy(predictions, y_test):\n",
    "    x = (np.abs(predictions - y_test)).sum()\n",
    "    acc = 100 - ((x/y_test.shape[1]) * 100)\n",
    "    return str(acc) + \"%\""
   ]
  },
  {
   "cell_type": "code",
   "execution_count": 36,
   "metadata": {},
   "outputs": [],
   "source": [
    "def nn_model(X, Y, learning_rate, num_iterations, layers, activation_functions):\n",
    "    params = init_params(layers)\n",
    "    for i in range(num_iterations):\n",
    "        AL, caches = forward_prop(X, params, activation_functions)\n",
    "        cost = calc_cost(AL, Y)\n",
    "        if(i%100 == 0):\n",
    "            print(cost)\n",
    "        grads = back_prop(AL, Y, caches, activations)    \n",
    "        params = update_params(params, grads, learning_rate)\n",
    "        \n",
    "    return params"
   ]
  },
  {
   "cell_type": "code",
   "execution_count": 37,
   "metadata": {},
   "outputs": [],
   "source": [
    "dataset = make_moons(n_samples = 5000, noise=0.1, random_state=0)\n",
    "# dataset = make_circles(n_samples=100, shuffle=True, noise=None, random_state=None, factor=0.8)\n",
    "\n",
    "X = dataset[0]\n",
    "Y = dataset[1]\n",
    "\n",
    "X_train, X_test, y_train, y_test = train_test_split(X, Y, test_size=.3)\n",
    "\n",
    "y_test = y_test.reshape(1, y_test.shape[0])\n",
    "y_train = y_train.reshape(1, y_train.shape[0])\n",
    "\n",
    "X_train = X_train.T\n",
    "X_test = X_test.T"
   ]
  },
  {
   "cell_type": "code",
   "execution_count": 38,
   "metadata": {},
   "outputs": [
    {
     "data": {
      "image/png": "[encoded data removed]",
      "text/plain": [
       "<Figure size 432x288 with 1 Axes>"
      ]
     },
     "metadata": {
      "needs_background": "light"
     },
     "output_type": "display_data"
    }
   ],
   "source": [
    "X, Y = dataset\n",
    "X, Y = X.T, Y.reshape(Y.shape[0])\n",
    "\n",
    "# Visualize the data\n",
    "plt.scatter(X[0, :], X[1, :], c = Y);"
   ]
  },
  {
   "cell_type": "code",
   "execution_count": 39,
   "metadata": {},
   "outputs": [],
   "source": [
    "layers = [2, 15, 12, 12, 1]\n",
    "activations = ['none','relu','relu','relu', 'sigmoid']"
   ]
  },
  {
   "cell_type": "code",
   "execution_count": 40,
   "metadata": {},
   "outputs": [
    {
     "name": "stdout",
     "output_type": "stream",
     "text": [
      "0.6841671904276313\n",
      "0.027755173625401152\n",
      "0.005561599634740926\n",
      "0.0034871222009977216\n",
      "0.0027310740027799993\n",
      "0.0023327892950195227\n",
      "0.0020819078271454867\n",
      "0.0018928083847069403\n",
      "0.0017546631252062862\n",
      "0.0016500714634612467\n",
      "0.0015674520122832343\n",
      "0.0015004929360035453\n",
      "0.0014448463238387417\n",
      "0.001398197135823\n",
      "0.001358225794144998\n",
      "0.0013239505818103496\n",
      "0.001294191600675305\n",
      "0.0012678862874189363\n",
      "0.0012446272054998499\n",
      "0.0012239815432399672\n",
      "0.001205370319158373\n",
      "0.0011886620531599596\n",
      "0.0011732871871217695\n",
      "0.00115929936317524\n",
      "0.0011465026304029232\n"
     ]
    }
   ],
   "source": [
    "params = nn_model(X_train, y_train, 0.7, 2500, layers, activations)"
   ]
  },
  {
   "cell_type": "code",
   "execution_count": 41,
   "metadata": {},
   "outputs": [],
   "source": [
    "predictions = predict(X_test, params, activations)"
   ]
  },
  {
   "cell_type": "code",
   "execution_count": 42,
   "metadata": {},
   "outputs": [
    {
     "data": {
      "text/plain": [
       "(1, 1500)"
      ]
     },
     "execution_count": 42,
     "metadata": {},
     "output_type": "execute_result"
    }
   ],
   "source": [
    "predictions.shape"
   ]
  },
  {
   "cell_type": "code",
   "execution_count": 43,
   "metadata": {},
   "outputs": [
    {
     "data": {
      "image/png": "[encoded data removed]",
      "text/plain": [
       "<Figure size 432x288 with 1 Axes>"
      ]
     },
     "metadata": {
      "needs_background": "light"
     },
     "output_type": "display_data"
    }
   ],
   "source": [
    "plot_decision_boundary(lambda x: predict(x.T, params, activations), X_test, y_test)"
   ]
  },
  {
   "cell_type": "code",
   "execution_count": 44,
   "metadata": {},
   "outputs": [
    {
     "data": {
      "text/plain": [
       "'99.86666666666666%'"
      ]
     },
     "execution_count": 44,
     "metadata": {},
     "output_type": "execute_result"
    }
   ],
   "source": [
    "accuracy(predictions, y_test)"
   ]
  },
  {
   "cell_type": "markdown",
   "metadata": {},
   "source": [
    "## Load cat dataset"
   ]
  },
  {
   "cell_type": "code",
   "execution_count": 81,
   "metadata": {},
   "outputs": [],
   "source": [
    "file_name = 'train_catvnoncat.h5'"
   ]
  },
  {
   "cell_type": "code",
   "execution_count": 82,
   "metadata": {},
   "outputs": [
    {
     "name": "stdout",
     "output_type": "stream",
     "text": [
      "Keys: <KeysViewHDF5 ['list_classes', 'train_set_x', 'train_set_y']>\n"
     ]
    }
   ],
   "source": [
    "with h5py.File(file_name, 'r') as f:\n",
    "    # List all groups\n",
    "    print(\"Keys: %s\" % f.keys())\n",
    "    b_group_key = list(f.keys())[1]\n",
    "    c_group_key = list(f.keys())[2]\n",
    "    a_group_key = list(f.keys())[0]\n",
    "\n",
    "    # Get the data\n",
    "    x_train = list(f[b_group_key])\n",
    "    y_train = list(f[c_group_key])\n",
    "    labels = list(f[a_group_key])"
   ]
  },
  {
   "cell_type": "code",
   "execution_count": 83,
   "metadata": {},
   "outputs": [],
   "source": [
    "X_train  = np.array(x_train)\n",
    "Y_train  = np.array(y_train)"
   ]
  },
  {
   "cell_type": "code",
   "execution_count": 84,
   "metadata": {},
   "outputs": [],
   "source": [
    "X_train = X_train.reshape((X_train.shape[0], -1)).T\n",
    "Y_train = Y_train.reshape((Y_train.shape[0],1)).T"
   ]
  },
  {
   "cell_type": "code",
   "execution_count": 85,
   "metadata": {},
   "outputs": [],
   "source": [
    "X_train = X_train / 255\n",
    "Y_train = Y_train"
   ]
  },
  {
   "cell_type": "code",
   "execution_count": 86,
   "metadata": {},
   "outputs": [
    {
     "data": {
      "text/plain": [
       "(12288, 209)"
      ]
     },
     "execution_count": 86,
     "metadata": {},
     "output_type": "execute_result"
    }
   ],
   "source": [
    "X_train.shape\n"
   ]
  },
  {
   "cell_type": "code",
   "execution_count": 87,
   "metadata": {},
   "outputs": [
    {
     "data": {
      "text/plain": [
       "(1, 209)"
      ]
     },
     "execution_count": 87,
     "metadata": {},
     "output_type": "execute_result"
    }
   ],
   "source": [
    "Y_train.shape\n"
   ]
  },
  {
   "cell_type": "code",
   "execution_count": 88,
   "metadata": {},
   "outputs": [],
   "source": [
    "file_name = 'test_catvnoncat.h5'\n"
   ]
  },
  {
   "cell_type": "code",
   "execution_count": 89,
   "metadata": {},
   "outputs": [
    {
     "name": "stdout",
     "output_type": "stream",
     "text": [
      "Keys: <KeysViewHDF5 ['list_classes', 'test_set_x', 'test_set_y']>\n"
     ]
    }
   ],
   "source": [
    "with h5py.File(file_name, 'r') as f:\n",
    "    # List all groups\n",
    "    print(\"Keys: %s\" % f.keys())\n",
    "    b_group_key = list(f.keys())[1]\n",
    "    c_group_key = list(f.keys())[2]\n",
    "    a_group_key = list(f.keys())[0]\n",
    "\n",
    "    # Get the data\n",
    "    x_test = list(f[b_group_key])\n",
    "    y_test = list(f[c_group_key])\n",
    "    labels_test = list(f[a_group_key])"
   ]
  },
  {
   "cell_type": "code",
   "execution_count": 90,
   "metadata": {},
   "outputs": [],
   "source": [
    "X_test = np.array(x_test)\n",
    "Y_test = np.array(y_test)"
   ]
  },
  {
   "cell_type": "code",
   "execution_count": 91,
   "metadata": {},
   "outputs": [],
   "source": [
    "X_test = X_test.reshape((X_test.shape[0], -1)).T\n",
    "Y_test = Y_test.reshape((Y_test.shape[0],1)).T"
   ]
  },
  {
   "cell_type": "code",
   "execution_count": 92,
   "metadata": {},
   "outputs": [],
   "source": [
    "\n",
    "X_test = X_test / 255\n",
    "Y_test = Y_test"
   ]
  },
  {
   "cell_type": "code",
   "execution_count": 93,
   "metadata": {},
   "outputs": [
    {
     "data": {
      "text/plain": [
       "(12288, 50)"
      ]
     },
     "execution_count": 93,
     "metadata": {},
     "output_type": "execute_result"
    }
   ],
   "source": [
    "X_test.shape\n"
   ]
  },
  {
   "cell_type": "code",
   "execution_count": 94,
   "metadata": {},
   "outputs": [
    {
     "data": {
      "text/plain": [
       "(1, 50)"
      ]
     },
     "execution_count": 94,
     "metadata": {},
     "output_type": "execute_result"
    }
   ],
   "source": [
    "Y_test.shape"
   ]
  },
  {
   "cell_type": "code",
   "execution_count": 105,
   "metadata": {},
   "outputs": [],
   "source": [
    "layers = [X_train.shape[0], 21, 8, 6, 1]\n",
    "activations = ['input', 'relu','relu', 'relu', 'sigmoid']"
   ]
  },
  {
   "cell_type": "code",
   "execution_count": 106,
   "metadata": {},
   "outputs": [
    {
     "name": "stdout",
     "output_type": "stream",
     "text": [
      "0.696184714196256\n",
      "0.4975268799275994\n",
      "0.44759271393877487\n",
      "0.4198221206700482\n",
      "0.271354406247393\n",
      "0.1315008677433774\n",
      "0.06766814624446418\n",
      "0.04296505145636661\n",
      "0.029281335161270416\n",
      "0.021703818498443626\n",
      "0.016788154471490152\n",
      "0.013395759365287956\n",
      "0.010954896586167124\n",
      "0.009130124682992319\n",
      "0.007749784937649744\n",
      "0.006679692236162815\n",
      "0.005835774488197313\n",
      "0.0051511104401785485\n",
      "0.004588057852208598\n",
      "0.004121336965489163\n",
      "0.003726649604045915\n",
      "0.003391008937861298\n",
      "0.0031086884376233964\n",
      "0.0028602095876282207\n",
      "0.0026455937235970303\n",
      "0.0024556484029884256\n",
      "0.00229345979456395\n",
      "0.0021459577482581004\n",
      "0.0020163440995998234\n",
      "0.001897789562786599\n"
     ]
    }
   ],
   "source": [
    "params = nn_model(X_train, Y_train, 0.009,3000,layers,activations)"
   ]
  },
  {
   "cell_type": "code",
   "execution_count": 107,
   "metadata": {},
   "outputs": [],
   "source": [
    "predictions = predict(X_test, params, activations)"
   ]
  },
  {
   "cell_type": "code",
   "execution_count": 108,
   "metadata": {},
   "outputs": [
    {
     "data": {
      "text/plain": [
       "'82.0%'"
      ]
     },
     "execution_count": 108,
     "metadata": {},
     "output_type": "execute_result"
    }
   ],
   "source": [
    "accuracy(predictions, Y_test)"
   ]
  },
  {
   "cell_type": "code",
   "execution_count": 109,
   "metadata": {},
   "outputs": [
    {
     "data": {
      "text/plain": [
       "array([[1, 1, 1, 1, 1, 1, 1, 1, 1, 1, 1, 1, 1, 0, 0, 1, 0, 1, 0, 0, 1, 0,\n",
       "        0, 1, 1, 1, 1, 0, 0, 1, 1, 1, 1, 1, 0, 0, 0, 1, 0, 0, 1, 0, 1, 0,\n",
       "        1, 1, 0, 1, 1, 0]])"
      ]
     },
     "execution_count": 109,
     "metadata": {},
     "output_type": "execute_result"
    }
   ],
   "source": [
    "predictions"
   ]
  },
  {
   "cell_type": "code",
   "execution_count": 110,
   "metadata": {},
   "outputs": [
    {
     "data": {
      "text/plain": [
       "array([[1, 1, 1, 1, 1, 0, 1, 1, 1, 1, 1, 1, 1, 0, 0, 1, 0, 1, 1, 1, 1, 0,\n",
       "        0, 1, 1, 1, 1, 0, 1, 0, 1, 1, 1, 1, 0, 0, 0, 1, 0, 0, 1, 1, 1, 0,\n",
       "        0, 0, 1, 1, 1, 0]])"
      ]
     },
     "execution_count": 110,
     "metadata": {},
     "output_type": "execute_result"
    }
   ],
   "source": [
    "Y_test"
   ]
  },
  {
   "cell_type": "code",
   "execution_count": null,
   "metadata": {},
   "outputs": [],
   "source": []
  }
 ],
 "metadata": {
  "kernelspec": {
   "display_name": "Python 3",
   "language": "python",
   "name": "python3"
  },
  "language_info": {
   "codemirror_mode": {
    "name": "ipython",
    "version": 3
   },
   "file_extension": ".py",
   "mimetype": "text/x-python",
   "name": "python",
   "nbconvert_exporter": "python",
   "pygments_lexer": "ipython3",
   "version": "3.7.4"
  }
 },
 "nbformat": 4,
 "nbformat_minor": 4
}
